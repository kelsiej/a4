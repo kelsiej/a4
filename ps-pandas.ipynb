{
 "cells": [
  {
   "cell_type": "markdown",
   "metadata": {
    "ein.tags": "worksheet-0",
    "slideshow": {
     "slide_type": "-"
    }
   },
   "source": [
    "# Problem Set 4, due Fri, May 1st, midnight\n",
    "\n",
    "## Before You Start\n",
    "\n",
    "This problem set is about pandas (and python).  Unlike all the other\n",
    "problem sets in this course, I ask you to solve this one in _python_\n",
    "in _notebooks_.\n",
    "\n",
    "Please submit\n",
    "* this notebook (as .ipynb)\n",
    "* html (or pdf) 'final version' of it\n",
    "\n",
    "\n",
    "## Collaboration\n",
    "\n",
    "Working together is useful and fun.  However,\n",
    "\n",
    "* please list all your collaborators' names below here and\n",
    "* submit your own work.  Copy-pasting is not ok.\n",
    "\n",
    "collaborators:\n",
    "\n",
    "* ...\n",
    "\n",
    "## Readings:\n",
    "\n",
    "This problem set assumes you can work with pandas.  Consult McKinney\n",
    "Ch 5 _Getting Started with pandas_ (chapter numbering varies between\n",
    "                                    editions).  Matplotlib is briefly\n",
    "discussed in McKinney Ch 9.  Ch 10: _Data Aggregation and Group\n",
    "Operations_ explains the, well, grouped operations.\n"
   ]
  },
  {
   "cell_type": "raw",
   "metadata": {},
   "source": [
    "<script>\n",
    "  function code_toggle() {\n",
    "    if (code_shown){\n",
    "      $('div.input').hide('500');\n",
    "      $('#toggleButton').val('Show Code')\n",
    "    } else {\n",
    "      $('div.input').show('500');\n",
    "      $('#toggleButton').val('Hide Code')\n",
    "    }\n",
    "    code_shown = !code_shown\n",
    "  }\n",
    "\n",
    "  $( document ).ready(function(){\n",
    "    code_shown=false;\n",
    "    $('div.input').hide()\n",
    "  });\n",
    "</script>\n",
    "<form action=\"javascript:code_toggle()\">\n",
    "  <input type=\"submit\" id=\"toggleButton\" value=\"Show Code\">\n",
    "</form>"
   ]
  },
  {
   "cell_type": "code",
   "execution_count": 221,
   "metadata": {
    "autoscroll": false,
    "ein.hycell": false,
    "ein.tags": "worksheet-0",
    "slideshow": {
     "slide_type": "-"
    }
   },
   "outputs": [
    {
     "name": "stdout",
     "output_type": "stream",
     "text": [
      "Numpy version:        1.15.4\n",
      "SciPy version:         1.1.0\n",
      "Pandas version:       0.23.4\n",
      "Maplotlib version:     3.0.2\n",
      "Scikit-Learn version: 0.20.1\n"
     ]
    }
   ],
   "source": [
    "# Let's import the important packages.  Depending on how do your\n",
    "# exactly proceed, you may need more than these here.  \n",
    "\n",
    "# Numpy is a library for working with Arrays\n",
    "import numpy as np\n",
    "print(\"Numpy version:        %6.6s\" % np.__version__)\n",
    "\n",
    "# SciPy implements many different numerical algorithms\n",
    "import scipy as sp\n",
    "print(\"SciPy version:        %6.6s\" % sp.__version__)\n",
    "\n",
    "# Pandas makes working with data tables easier\n",
    "import pandas as pd\n",
    "print(\"Pandas version:       %6.6s\" % pd.__version__)\n",
    "\n",
    "# Module for plotting\n",
    "import matplotlib \n",
    "print(\"Maplotlib version:    %6.6s\" % matplotlib.__version__)\n",
    "%matplotlib inline\n",
    "# needed for inline plots in notebooks\n",
    "import matplotlib.pyplot as plt  \n",
    "\n",
    "# SciKit Learn implements several Machine Learning algorithms\n",
    "import sklearn\n",
    "print(\"Scikit-Learn version: %6.6s\" % sklearn.__version__)\n",
    "\n",
    "import seaborn as sns"
   ]
  },
  {
   "cell_type": "markdown",
   "metadata": {
    "ein.tags": "worksheet-0",
    "slideshow": {
     "slide_type": "-"
    }
   },
   "source": [
    "---\n",
    "\n",
    "## Introduction to the assignment\n",
    "\n",
    "For this assignment, you will be using the [Boston Housing Prices Data\n",
    "Set](http://lib.stat.cmu.edu/datasets/boston).  Please read\n",
    "about the dataset carefully before continuing -- it is worth investing\n",
    "a few minutes up front otherwise you are likely to be hopelessly\n",
    "confused! \n",
    "\n"
   ]
  },
  {
   "cell_type": "code",
   "execution_count": 222,
   "metadata": {
    "autoscroll": false,
    "ein.hycell": false,
    "ein.tags": "worksheet-0",
    "slideshow": {
     "slide_type": "-"
    }
   },
   "outputs": [],
   "source": [
    "from sklearn.datasets import load_boston\n",
    "bdata = load_boston()"
   ]
  },
  {
   "cell_type": "markdown",
   "metadata": {
    "ein.tags": "worksheet-0",
    "slideshow": {
     "slide_type": "-"
    }
   },
   "source": [
    "The following commands will provide some basic information about the shape of the data:"
   ]
  },
  {
   "cell_type": "code",
   "execution_count": 223,
   "metadata": {
    "autoscroll": false,
    "ein.hycell": false,
    "ein.tags": "worksheet-0",
    "slideshow": {
     "slide_type": "-"
    }
   },
   "outputs": [
    {
     "name": "stdout",
     "output_type": "stream",
     "text": [
      "dict_keys(['data', 'target', 'feature_names', 'DESCR', 'filename'])\n",
      "['CRIM' 'ZN' 'INDUS' 'CHAS' 'NOX' 'RM' 'AGE' 'DIS' 'RAD' 'TAX' 'PTRATIO'\n",
      " 'B' 'LSTAT']\n",
      "(506, 13)\n",
      "(506,)\n"
     ]
    }
   ],
   "source": [
    "print( bdata.keys())\n",
    "print( bdata.feature_names)\n",
    "print( bdata.data.shape)\n",
    "print( bdata.target.shape)\n",
    "\n",
    "# uncomment the following if you want to see a lengthy description of the dataset\n",
    "# print bdata.DESCR"
   ]
  },
  {
   "cell_type": "code",
   "execution_count": 224,
   "metadata": {
    "autoscroll": false,
    "ein.hycell": false,
    "ein.tags": "worksheet-0",
    "slideshow": {
     "slide_type": "-"
    }
   },
   "outputs": [],
   "source": [
    "boston = pd.DataFrame(bdata.data)"
   ]
  },
  {
   "cell_type": "code",
   "execution_count": 225,
   "metadata": {
    "autoscroll": false,
    "ein.hycell": false,
    "ein.tags": "worksheet-0",
    "slideshow": {
     "slide_type": "-"
    }
   },
   "outputs": [
    {
     "name": "stdout",
     "output_type": "stream",
     "text": [
      "(506, 13)\n",
      "      CRIM    ZN  INDUS  CHAS    NOX     RM   AGE     DIS  RAD    TAX  \\\n",
      "0  0.00632  18.0   2.31   0.0  0.538  6.575  65.2  4.0900  1.0  296.0   \n",
      "1  0.02731   0.0   7.07   0.0  0.469  6.421  78.9  4.9671  2.0  242.0   \n",
      "2  0.02729   0.0   7.07   0.0  0.469  7.185  61.1  4.9671  2.0  242.0   \n",
      "3  0.03237   0.0   2.18   0.0  0.458  6.998  45.8  6.0622  3.0  222.0   \n",
      "4  0.06905   0.0   2.18   0.0  0.458  7.147  54.2  6.0622  3.0  222.0   \n",
      "\n",
      "   PTRATIO       B  LSTAT  \n",
      "0     15.3  396.90   4.98  \n",
      "1     17.8  396.90   9.14  \n",
      "2     17.8  392.83   4.03  \n",
      "3     18.7  394.63   2.94  \n",
      "4     18.7  396.90   5.33  \n"
     ]
    }
   ],
   "source": [
    "boston.columns = bdata.feature_names[:]\n",
    "print( boston.shape)\n",
    "print(boston.head())"
   ]
  },
  {
   "cell_type": "markdown",
   "metadata": {
    "ein.tags": "worksheet-0",
    "slideshow": {
     "slide_type": "-"
    }
   },
   "source": [
    "---\n",
    "\n",
    "## Part 1: Descriptive analysis\n",
    "\n",
    "### 1.1: Explore the data\n",
    "\n",
    "Let's dig into the data a bit to see what we're dealing with. The\n",
    "first thing to do is to make sure you understand how the data is\n",
    "organized, what the data types are, whether there is any missing data,\n",
    "and so forth. Get your bearings on your own, then answer the following\n",
    "questions.\n",
    "\n",
    "- a: The data is split in two chunks: _data_ and _target_.  Create a\n",
    "  data frame that combines both chunks.  The following questions\n",
    "  concern this new data frame.\n",
    "- b: How many different variables are there in the data frame you just\n",
    "  created, and\n",
    "     how many different observations?  \n",
    "- c: How many instances are classified as neighborhoods where the tract bounds the Charles River? \n",
    "- d: Show that dataset does not contain any missing values.\n",
    "- e: Display the property tax rate in the 5 neighborhoods that have\n",
    "     the lowest median housing price.\n"
   ]
  },
  {
   "cell_type": "code",
   "execution_count": 226,
   "metadata": {
    "autoscroll": false,
    "ein.hycell": false,
    "ein.tags": "worksheet-0",
    "slideshow": {
     "slide_type": "-"
    }
   },
   "outputs": [
    {
     "name": "stdout",
     "output_type": "stream",
     "text": [
      "\n",
      " a: \n",
      "(506, 14)\n",
      "\n",
      " b: \n",
      "35\n",
      "\n",
      " c: \n",
      "CRIM       0\n",
      "ZN         0\n",
      "INDUS      0\n",
      "CHAS       0\n",
      "NOX        0\n",
      "RM         0\n",
      "AGE        0\n",
      "DIS        0\n",
      "RAD        0\n",
      "TAX        0\n",
      "PTRATIO    0\n",
      "B          0\n",
      "LSTAT      0\n",
      "target     0\n",
      "dtype: int64\n",
      "\n",
      " d: \n",
      "398    666.0\n",
      "405    666.0\n",
      "400    666.0\n",
      "399    666.0\n",
      "414    666.0\n",
      "Name: TAX, dtype: float64\n"
     ]
    }
   ],
   "source": [
    "# enter your code here\n",
    "\n",
    "newdf = pd.DataFrame(boston)\n",
    "newdf['target'] = bdata.target\n",
    "\n",
    "print(\"\\n a: \")\n",
    "print(newdf.shape)\n",
    "\n",
    "print(\"\\n b: \")\n",
    "print(len(newdf.loc[newdf['CHAS'] > 0]))\n",
    "\n",
    "print(\"\\n c: \")\n",
    "print(newdf.isnull().sum())\n",
    "\n",
    "print( \"\\n d: \")\n",
    "print(newdf.sort_values(by=['target']).head(5)['TAX'])\n",
    "\n"
   ]
  },
  {
   "cell_type": "markdown",
   "metadata": {
    "ein.tags": "worksheet-0",
    "slideshow": {
     "slide_type": "-"
    }
   },
   "source": [
    "*Provide our answers below:*\n",
    "\n",
    " - a: Data frame created above.\n",
    " - b: 14 variables, 506 observations.\n",
    " - c: 35 instances are classified as neighborhoods where the tract bounds the Charles River.\n",
    " - d: There are no missing values.\n",
    " - e:  The property tax rate in the 5 neighborhoods that have the lowest median housing price is displayed above, for all 5 neighborhods it is 666.0.\n",
    " "
   ]
  },
  {
   "cell_type": "markdown",
   "metadata": {
    "ein.tags": "worksheet-0",
    "slideshow": {
     "slide_type": "-"
    }
   },
   "source": [
    "### 1.2: Answer some basic questions about the data\n",
    "\n",
    " - 1.2 a: What is the median housing price in Boston's most expensive neighborhood?\n",
    " - 1.2 b: How many neighborhoods have, on average, less than 5 rooms per dwelling?\n",
    " - 1.2 c: What is the property tax rate in the most expensive neighborhood that is also adjacent to the Charles River?\n",
    " - 1.2 d: Are homes in old neighborhoods smaller?  Compare the average\n",
    "          number of rooms in the 5 oldest and 5 youngest neighborhood."
   ]
  },
  {
   "cell_type": "code",
   "execution_count": 261,
   "metadata": {
    "autoscroll": false,
    "ein.hycell": false,
    "ein.tags": "worksheet-0",
    "slideshow": {
     "slide_type": "-"
    }
   },
   "outputs": [
    {
     "name": "stdout",
     "output_type": "stream",
     "text": [
      "50.0\n",
      "506\n",
      "162    403.0\n",
      "163    403.0\n",
      "283    198.0\n",
      "369    666.0\n",
      "370    666.0\n",
      "372    666.0\n",
      "Name: TAX, dtype: float64\n",
      "41    6.770\n",
      "74    6.273\n",
      "73    6.245\n",
      "43    6.211\n",
      "70    6.417\n",
      "Name: RM, dtype: float64\n",
      "386    4.652\n",
      "158    6.066\n",
      "383    5.520\n",
      "406    4.138\n",
      "420    6.411\n",
      "Name: RM, dtype: float64\n"
     ]
    }
   ],
   "source": [
    "# enter your code here\n",
    "\n",
    "print(max(newdf.target))\n",
    "\n",
    "print(len(newdf.loc[newdf['RM'] > 0]))\n",
    "\n",
    "chs = newdf.loc[newdf['CHAS'] == 1]\n",
    "\n",
    "print(chs.loc[chs['target'] ==  max(chs.target)].TAX)\n",
    "\n",
    "print(newdf.sort_values(by=['AGE']).head(5)['RM'])\n",
    "\n",
    "print(newdf.sort_values(by=['AGE']).tail(5)['RM'])"
   ]
  },
  {
   "cell_type": "markdown",
   "metadata": {
    "ein.tags": "worksheet-0",
    "slideshow": {
     "slide_type": "-"
    }
   },
   "source": [
    "*Provide our answers below:*\n",
    "\n",
    " - 1.2.1: 50\n",
    " - 1.2.2: 506\n",
    " - 1.2.3: 403, 198, 666\n",
    " - 1.2.4: Yes\n",
    " - 1.2.5: Older houses have less rooms on average compared to newer houses. Looking at the top five newest and top five oldest, newer houses have about 6 rooms, whereas older houses have from 4-6 rooms."
   ]
  },
  {
   "cell_type": "markdown",
   "metadata": {
    "ein.tags": "worksheet-0",
    "slideshow": {
     "slide_type": "-"
    }
   },
   "source": [
    "### 1.3: Summary statistics\n",
    "\n",
    "Create a clean, organized table that shows just the following\n",
    "information (no more, no less) for each variable in the dataset.  Your\n",
    "table should have K rows (one for each variable) and 7\n",
    "columns, ordered as below:\n",
    "\n",
    "- The name of the variable\n",
    "- The number of observations with non-missing values\n",
    "- The mean of the variable\n",
    "- The standard deviation of the variable\n",
    "- The minimum value of the variable\n",
    "- The median of the variable\n",
    "- The maximum value of the variable"
   ]
  },
  {
   "cell_type": "code",
   "execution_count": 262,
   "metadata": {
    "autoscroll": false,
    "ein.hycell": false,
    "ein.tags": "worksheet-0",
    "slideshow": {
     "slide_type": "-"
    }
   },
   "outputs": [
    {
     "data": {
      "text/html": [
       "<div>\n",
       "<style scoped>\n",
       "    .dataframe tbody tr th:only-of-type {\n",
       "        vertical-align: middle;\n",
       "    }\n",
       "\n",
       "    .dataframe tbody tr th {\n",
       "        vertical-align: top;\n",
       "    }\n",
       "\n",
       "    .dataframe thead th {\n",
       "        text-align: right;\n",
       "    }\n",
       "</style>\n",
       "<table border=\"1\" class=\"dataframe\">\n",
       "  <thead>\n",
       "    <tr style=\"text-align: right;\">\n",
       "      <th></th>\n",
       "      <th>CRIM</th>\n",
       "      <th>ZN</th>\n",
       "      <th>INDUS</th>\n",
       "      <th>CHAS</th>\n",
       "      <th>NOX</th>\n",
       "      <th>RM</th>\n",
       "      <th>AGE</th>\n",
       "      <th>DIS</th>\n",
       "      <th>RAD</th>\n",
       "      <th>TAX</th>\n",
       "      <th>PTRATIO</th>\n",
       "      <th>B</th>\n",
       "      <th>LSTAT</th>\n",
       "      <th>target</th>\n",
       "    </tr>\n",
       "  </thead>\n",
       "  <tbody>\n",
       "    <tr>\n",
       "      <th>count</th>\n",
       "      <td>506.000000</td>\n",
       "      <td>506.000000</td>\n",
       "      <td>506.000000</td>\n",
       "      <td>506.000000</td>\n",
       "      <td>506.000000</td>\n",
       "      <td>506.000000</td>\n",
       "      <td>506.000000</td>\n",
       "      <td>506.000000</td>\n",
       "      <td>506.000000</td>\n",
       "      <td>506.000000</td>\n",
       "      <td>506.000000</td>\n",
       "      <td>506.000000</td>\n",
       "      <td>506.000000</td>\n",
       "      <td>506.000000</td>\n",
       "    </tr>\n",
       "    <tr>\n",
       "      <th>mean</th>\n",
       "      <td>3.613524</td>\n",
       "      <td>11.363636</td>\n",
       "      <td>11.136779</td>\n",
       "      <td>0.069170</td>\n",
       "      <td>0.554695</td>\n",
       "      <td>6.284634</td>\n",
       "      <td>68.574901</td>\n",
       "      <td>3.795043</td>\n",
       "      <td>9.549407</td>\n",
       "      <td>408.237154</td>\n",
       "      <td>18.455534</td>\n",
       "      <td>356.674032</td>\n",
       "      <td>12.653063</td>\n",
       "      <td>22.532806</td>\n",
       "    </tr>\n",
       "    <tr>\n",
       "      <th>std</th>\n",
       "      <td>8.601545</td>\n",
       "      <td>23.322453</td>\n",
       "      <td>6.860353</td>\n",
       "      <td>0.253994</td>\n",
       "      <td>0.115878</td>\n",
       "      <td>0.702617</td>\n",
       "      <td>28.148861</td>\n",
       "      <td>2.105710</td>\n",
       "      <td>8.707259</td>\n",
       "      <td>168.537116</td>\n",
       "      <td>2.164946</td>\n",
       "      <td>91.294864</td>\n",
       "      <td>7.141062</td>\n",
       "      <td>9.197104</td>\n",
       "    </tr>\n",
       "    <tr>\n",
       "      <th>min</th>\n",
       "      <td>0.006320</td>\n",
       "      <td>0.000000</td>\n",
       "      <td>0.460000</td>\n",
       "      <td>0.000000</td>\n",
       "      <td>0.385000</td>\n",
       "      <td>3.561000</td>\n",
       "      <td>2.900000</td>\n",
       "      <td>1.129600</td>\n",
       "      <td>1.000000</td>\n",
       "      <td>187.000000</td>\n",
       "      <td>12.600000</td>\n",
       "      <td>0.320000</td>\n",
       "      <td>1.730000</td>\n",
       "      <td>5.000000</td>\n",
       "    </tr>\n",
       "    <tr>\n",
       "      <th>50%</th>\n",
       "      <td>0.256510</td>\n",
       "      <td>0.000000</td>\n",
       "      <td>9.690000</td>\n",
       "      <td>0.000000</td>\n",
       "      <td>0.538000</td>\n",
       "      <td>6.208500</td>\n",
       "      <td>77.500000</td>\n",
       "      <td>3.207450</td>\n",
       "      <td>5.000000</td>\n",
       "      <td>330.000000</td>\n",
       "      <td>19.050000</td>\n",
       "      <td>391.440000</td>\n",
       "      <td>11.360000</td>\n",
       "      <td>21.200000</td>\n",
       "    </tr>\n",
       "    <tr>\n",
       "      <th>max</th>\n",
       "      <td>88.976200</td>\n",
       "      <td>100.000000</td>\n",
       "      <td>27.740000</td>\n",
       "      <td>1.000000</td>\n",
       "      <td>0.871000</td>\n",
       "      <td>8.780000</td>\n",
       "      <td>100.000000</td>\n",
       "      <td>12.126500</td>\n",
       "      <td>24.000000</td>\n",
       "      <td>711.000000</td>\n",
       "      <td>22.000000</td>\n",
       "      <td>396.900000</td>\n",
       "      <td>37.970000</td>\n",
       "      <td>50.000000</td>\n",
       "    </tr>\n",
       "  </tbody>\n",
       "</table>\n",
       "</div>"
      ],
      "text/plain": [
       "             CRIM          ZN       INDUS        CHAS         NOX          RM  \\\n",
       "count  506.000000  506.000000  506.000000  506.000000  506.000000  506.000000   \n",
       "mean     3.613524   11.363636   11.136779    0.069170    0.554695    6.284634   \n",
       "std      8.601545   23.322453    6.860353    0.253994    0.115878    0.702617   \n",
       "min      0.006320    0.000000    0.460000    0.000000    0.385000    3.561000   \n",
       "50%      0.256510    0.000000    9.690000    0.000000    0.538000    6.208500   \n",
       "max     88.976200  100.000000   27.740000    1.000000    0.871000    8.780000   \n",
       "\n",
       "              AGE         DIS         RAD         TAX     PTRATIO           B  \\\n",
       "count  506.000000  506.000000  506.000000  506.000000  506.000000  506.000000   \n",
       "mean    68.574901    3.795043    9.549407  408.237154   18.455534  356.674032   \n",
       "std     28.148861    2.105710    8.707259  168.537116    2.164946   91.294864   \n",
       "min      2.900000    1.129600    1.000000  187.000000   12.600000    0.320000   \n",
       "50%     77.500000    3.207450    5.000000  330.000000   19.050000  391.440000   \n",
       "max    100.000000   12.126500   24.000000  711.000000   22.000000  396.900000   \n",
       "\n",
       "            LSTAT      target  \n",
       "count  506.000000  506.000000  \n",
       "mean    12.653063   22.532806  \n",
       "std      7.141062    9.197104  \n",
       "min      1.730000    5.000000  \n",
       "50%     11.360000   21.200000  \n",
       "max     37.970000   50.000000  "
      ]
     },
     "execution_count": 262,
     "metadata": {},
     "output_type": "execute_result"
    }
   ],
   "source": [
    "# enter your code here\n",
    "\n",
    "a = newdf.describe(percentiles=[])\n",
    "a"
   ]
  },
  {
   "cell_type": "markdown",
   "metadata": {
    "ein.tags": "worksheet-0",
    "slideshow": {
     "slide_type": "-"
    }
   },
   "source": [
    "### 1.4 Grouped Operations\n",
    "\n",
    "In these exercise, you **have to use _groupby_** grouping operator.\n",
    "\n",
    "#### 1.4.1 Price and number of rooms\n",
    "\n",
    "How does the average house price depend on the number of rooms?\n",
    "Compute the mean price by number of rooms.  Note: as this is _average\n",
    "number of rooms_, you have to convert it to an integer, or make it\n",
    "categorical in another way.\n"
   ]
  },
  {
   "cell_type": "code",
   "execution_count": 135,
   "metadata": {
    "autoscroll": false,
    "ein.hycell": false,
    "ein.tags": "worksheet-0",
    "slideshow": {
     "slide_type": "-"
    }
   },
   "outputs": [
    {
     "data": {
      "text/plain": [
       "RM\n",
       "3    25.300000\n",
       "4    16.023077\n",
       "5    17.487342\n",
       "6    22.015985\n",
       "7    36.917647\n",
       "8    44.200000\n",
       "Name: target, dtype: float64"
      ]
     },
     "execution_count": 135,
     "metadata": {},
     "output_type": "execute_result"
    }
   ],
   "source": [
    "## compute it here.  Use 'groupy' operator!\n",
    "newdf['RM'] = newdf['RM'].astype(int)\n",
    "\n",
    "newdf.groupby('RM').mean()['target']"
   ]
  },
  {
   "cell_type": "markdown",
   "metadata": {
    "ein.tags": "worksheet-0",
    "slideshow": {
     "slide_type": "-"
    }
   },
   "source": [
    "#### 1.4.2 size and location\n",
    "\n",
    "But the price may not just depend on the size but also on location.\n",
    "Analyze the average price depending on size (as above), depending on\n",
    "whether the neighborhood is adjacent to Charles river or not."
   ]
  },
  {
   "cell_type": "code",
   "execution_count": 136,
   "metadata": {
    "autoscroll": false,
    "ein.hycell": false,
    "ein.tags": "worksheet-0",
    "slideshow": {
     "slide_type": "-"
    }
   },
   "outputs": [
    {
     "data": {
      "text/html": [
       "<div>\n",
       "<style scoped>\n",
       "    .dataframe tbody tr th:only-of-type {\n",
       "        vertical-align: middle;\n",
       "    }\n",
       "\n",
       "    .dataframe tbody tr th {\n",
       "        vertical-align: top;\n",
       "    }\n",
       "\n",
       "    .dataframe thead th {\n",
       "        text-align: right;\n",
       "    }\n",
       "</style>\n",
       "<table border=\"1\" class=\"dataframe\">\n",
       "  <thead>\n",
       "    <tr style=\"text-align: right;\">\n",
       "      <th></th>\n",
       "      <th>CRIM</th>\n",
       "      <th>ZN</th>\n",
       "      <th>INDUS</th>\n",
       "      <th>CHAS</th>\n",
       "      <th>NOX</th>\n",
       "      <th>AGE</th>\n",
       "      <th>DIS</th>\n",
       "      <th>RAD</th>\n",
       "      <th>TAX</th>\n",
       "      <th>PTRATIO</th>\n",
       "      <th>B</th>\n",
       "      <th>LSTAT</th>\n",
       "      <th>target</th>\n",
       "    </tr>\n",
       "    <tr>\n",
       "      <th>RM</th>\n",
       "      <th></th>\n",
       "      <th></th>\n",
       "      <th></th>\n",
       "      <th></th>\n",
       "      <th></th>\n",
       "      <th></th>\n",
       "      <th></th>\n",
       "      <th></th>\n",
       "      <th></th>\n",
       "      <th></th>\n",
       "      <th></th>\n",
       "      <th></th>\n",
       "      <th></th>\n",
       "    </tr>\n",
       "  </thead>\n",
       "  <tbody>\n",
       "    <tr>\n",
       "      <th>3</th>\n",
       "      <td>9.039035</td>\n",
       "      <td>0.000000</td>\n",
       "      <td>18.100000</td>\n",
       "      <td>0.0</td>\n",
       "      <td>0.674500</td>\n",
       "      <td>93.950000</td>\n",
       "      <td>1.561900</td>\n",
       "      <td>24.000000</td>\n",
       "      <td>666.000000</td>\n",
       "      <td>20.200000</td>\n",
       "      <td>243.060000</td>\n",
       "      <td>10.225000</td>\n",
       "      <td>25.300000</td>\n",
       "    </tr>\n",
       "    <tr>\n",
       "      <th>4</th>\n",
       "      <td>14.620847</td>\n",
       "      <td>0.000000</td>\n",
       "      <td>17.696923</td>\n",
       "      <td>0.0</td>\n",
       "      <td>0.693846</td>\n",
       "      <td>93.376923</td>\n",
       "      <td>1.508346</td>\n",
       "      <td>19.538462</td>\n",
       "      <td>597.692308</td>\n",
       "      <td>19.215385</td>\n",
       "      <td>320.564615</td>\n",
       "      <td>26.590769</td>\n",
       "      <td>16.023077</td>\n",
       "    </tr>\n",
       "    <tr>\n",
       "      <th>5</th>\n",
       "      <td>5.154990</td>\n",
       "      <td>5.125850</td>\n",
       "      <td>13.329932</td>\n",
       "      <td>0.0</td>\n",
       "      <td>0.578258</td>\n",
       "      <td>73.971429</td>\n",
       "      <td>3.481890</td>\n",
       "      <td>9.877551</td>\n",
       "      <td>433.455782</td>\n",
       "      <td>19.151020</td>\n",
       "      <td>347.978776</td>\n",
       "      <td>16.726939</td>\n",
       "      <td>17.133333</td>\n",
       "    </tr>\n",
       "    <tr>\n",
       "      <th>6</th>\n",
       "      <td>2.959713</td>\n",
       "      <td>12.227273</td>\n",
       "      <td>10.624150</td>\n",
       "      <td>0.0</td>\n",
       "      <td>0.539770</td>\n",
       "      <td>64.733597</td>\n",
       "      <td>4.104611</td>\n",
       "      <td>9.644269</td>\n",
       "      <td>408.201581</td>\n",
       "      <td>18.635573</td>\n",
       "      <td>355.112530</td>\n",
       "      <td>11.327866</td>\n",
       "      <td>21.769170</td>\n",
       "    </tr>\n",
       "    <tr>\n",
       "      <th>7</th>\n",
       "      <td>0.989850</td>\n",
       "      <td>32.355556</td>\n",
       "      <td>4.934000</td>\n",
       "      <td>0.0</td>\n",
       "      <td>0.495202</td>\n",
       "      <td>57.333333</td>\n",
       "      <td>4.459762</td>\n",
       "      <td>5.422222</td>\n",
       "      <td>306.600000</td>\n",
       "      <td>16.184444</td>\n",
       "      <td>389.057778</td>\n",
       "      <td>6.014000</td>\n",
       "      <td>35.964444</td>\n",
       "    </tr>\n",
       "    <tr>\n",
       "      <th>8</th>\n",
       "      <td>0.395549</td>\n",
       "      <td>16.090909</td>\n",
       "      <td>4.940000</td>\n",
       "      <td>0.0</td>\n",
       "      <td>0.517009</td>\n",
       "      <td>68.472727</td>\n",
       "      <td>3.684164</td>\n",
       "      <td>6.181818</td>\n",
       "      <td>287.000000</td>\n",
       "      <td>16.163636</td>\n",
       "      <td>387.703636</td>\n",
       "      <td>4.310909</td>\n",
       "      <td>45.700000</td>\n",
       "    </tr>\n",
       "  </tbody>\n",
       "</table>\n",
       "</div>"
      ],
      "text/plain": [
       "         CRIM         ZN      INDUS  CHAS       NOX        AGE       DIS  \\\n",
       "RM                                                                         \n",
       "3    9.039035   0.000000  18.100000   0.0  0.674500  93.950000  1.561900   \n",
       "4   14.620847   0.000000  17.696923   0.0  0.693846  93.376923  1.508346   \n",
       "5    5.154990   5.125850  13.329932   0.0  0.578258  73.971429  3.481890   \n",
       "6    2.959713  12.227273  10.624150   0.0  0.539770  64.733597  4.104611   \n",
       "7    0.989850  32.355556   4.934000   0.0  0.495202  57.333333  4.459762   \n",
       "8    0.395549  16.090909   4.940000   0.0  0.517009  68.472727  3.684164   \n",
       "\n",
       "          RAD         TAX    PTRATIO           B      LSTAT     target  \n",
       "RM                                                                      \n",
       "3   24.000000  666.000000  20.200000  243.060000  10.225000  25.300000  \n",
       "4   19.538462  597.692308  19.215385  320.564615  26.590769  16.023077  \n",
       "5    9.877551  433.455782  19.151020  347.978776  16.726939  17.133333  \n",
       "6    9.644269  408.201581  18.635573  355.112530  11.327866  21.769170  \n",
       "7    5.422222  306.600000  16.184444  389.057778   6.014000  35.964444  \n",
       "8    6.181818  287.000000  16.163636  387.703636   4.310909  45.700000  "
      ]
     },
     "execution_count": 136,
     "metadata": {},
     "output_type": "execute_result"
    }
   ],
   "source": [
    "## analyze it here, use groupby\n",
    "noriver = newdf.loc[newdf['CHAS'] == 0]\n",
    "river = newdf.loc[newdf['CHAS'] == 1]\n",
    "noriver.groupby('RM').mean()"
   ]
  },
  {
   "cell_type": "code",
   "execution_count": 137,
   "metadata": {},
   "outputs": [
    {
     "data": {
      "text/html": [
       "<div>\n",
       "<style scoped>\n",
       "    .dataframe tbody tr th:only-of-type {\n",
       "        vertical-align: middle;\n",
       "    }\n",
       "\n",
       "    .dataframe tbody tr th {\n",
       "        vertical-align: top;\n",
       "    }\n",
       "\n",
       "    .dataframe thead th {\n",
       "        text-align: right;\n",
       "    }\n",
       "</style>\n",
       "<table border=\"1\" class=\"dataframe\">\n",
       "  <thead>\n",
       "    <tr style=\"text-align: right;\">\n",
       "      <th></th>\n",
       "      <th>CRIM</th>\n",
       "      <th>ZN</th>\n",
       "      <th>INDUS</th>\n",
       "      <th>CHAS</th>\n",
       "      <th>NOX</th>\n",
       "      <th>AGE</th>\n",
       "      <th>DIS</th>\n",
       "      <th>RAD</th>\n",
       "      <th>TAX</th>\n",
       "      <th>PTRATIO</th>\n",
       "      <th>B</th>\n",
       "      <th>LSTAT</th>\n",
       "      <th>target</th>\n",
       "    </tr>\n",
       "    <tr>\n",
       "      <th>RM</th>\n",
       "      <th></th>\n",
       "      <th></th>\n",
       "      <th></th>\n",
       "      <th></th>\n",
       "      <th></th>\n",
       "      <th></th>\n",
       "      <th></th>\n",
       "      <th></th>\n",
       "      <th></th>\n",
       "      <th></th>\n",
       "      <th></th>\n",
       "      <th></th>\n",
       "      <th></th>\n",
       "    </tr>\n",
       "  </thead>\n",
       "  <tbody>\n",
       "    <tr>\n",
       "      <th>5</th>\n",
       "      <td>1.671577</td>\n",
       "      <td>1.818182</td>\n",
       "      <td>13.860</td>\n",
       "      <td>1.0</td>\n",
       "      <td>0.609091</td>\n",
       "      <td>82.945455</td>\n",
       "      <td>2.814064</td>\n",
       "      <td>7.909091</td>\n",
       "      <td>365.545455</td>\n",
       "      <td>17.781818</td>\n",
       "      <td>381.679091</td>\n",
       "      <td>17.082727</td>\n",
       "      <td>22.218182</td>\n",
       "    </tr>\n",
       "    <tr>\n",
       "      <th>6</th>\n",
       "      <td>2.040776</td>\n",
       "      <td>5.000000</td>\n",
       "      <td>12.465</td>\n",
       "      <td>1.0</td>\n",
       "      <td>0.609750</td>\n",
       "      <td>78.268750</td>\n",
       "      <td>2.970294</td>\n",
       "      <td>10.500000</td>\n",
       "      <td>404.312500</td>\n",
       "      <td>17.631250</td>\n",
       "      <td>361.198125</td>\n",
       "      <td>10.828750</td>\n",
       "      <td>25.918750</td>\n",
       "    </tr>\n",
       "    <tr>\n",
       "      <th>7</th>\n",
       "      <td>1.462567</td>\n",
       "      <td>28.333333</td>\n",
       "      <td>9.265</td>\n",
       "      <td>1.0</td>\n",
       "      <td>0.498483</td>\n",
       "      <td>61.833333</td>\n",
       "      <td>3.915617</td>\n",
       "      <td>7.000000</td>\n",
       "      <td>326.666667</td>\n",
       "      <td>16.600000</td>\n",
       "      <td>389.045000</td>\n",
       "      <td>3.946667</td>\n",
       "      <td>44.066667</td>\n",
       "    </tr>\n",
       "    <tr>\n",
       "      <th>8</th>\n",
       "      <td>2.496650</td>\n",
       "      <td>0.000000</td>\n",
       "      <td>18.840</td>\n",
       "      <td>1.0</td>\n",
       "      <td>0.661500</td>\n",
       "      <td>88.400000</td>\n",
       "      <td>2.033350</td>\n",
       "      <td>14.500000</td>\n",
       "      <td>534.500000</td>\n",
       "      <td>17.450000</td>\n",
       "      <td>371.500000</td>\n",
       "      <td>4.305000</td>\n",
       "      <td>35.950000</td>\n",
       "    </tr>\n",
       "  </tbody>\n",
       "</table>\n",
       "</div>"
      ],
      "text/plain": [
       "        CRIM         ZN   INDUS  CHAS       NOX        AGE       DIS  \\\n",
       "RM                                                                     \n",
       "5   1.671577   1.818182  13.860   1.0  0.609091  82.945455  2.814064   \n",
       "6   2.040776   5.000000  12.465   1.0  0.609750  78.268750  2.970294   \n",
       "7   1.462567  28.333333   9.265   1.0  0.498483  61.833333  3.915617   \n",
       "8   2.496650   0.000000  18.840   1.0  0.661500  88.400000  2.033350   \n",
       "\n",
       "          RAD         TAX    PTRATIO           B      LSTAT     target  \n",
       "RM                                                                      \n",
       "5    7.909091  365.545455  17.781818  381.679091  17.082727  22.218182  \n",
       "6   10.500000  404.312500  17.631250  361.198125  10.828750  25.918750  \n",
       "7    7.000000  326.666667  16.600000  389.045000   3.946667  44.066667  \n",
       "8   14.500000  534.500000  17.450000  371.500000   4.305000  35.950000  "
      ]
     },
     "execution_count": 137,
     "metadata": {},
     "output_type": "execute_result"
    }
   ],
   "source": [
    "river.groupby('RM').mean()"
   ]
  },
  {
   "cell_type": "markdown",
   "metadata": {
    "ein.tags": "worksheet-0",
    "slideshow": {
     "slide_type": "-"
    }
   },
   "source": [
    "## Part 2: Histograms and Scatterplots\n",
    "\n",
    "### 2.1: Histogram of housing prices\n",
    "\n",
    "Below you will find some very basic code to make a very basic\n",
    "histogram of median housing prices (the \"target\" variable) for your\n",
    "dataset.  Your first task is to make this graph look pretty by doing\n",
    "the following:\n",
    "\n",
    "1. Add appropriate titles and labels to, make sure to explain the units\n",
    "2. Change the bin width on the histogram to be $1000\n",
    "3. Remove the axes on the top and right side of the plot window\n",
    "4. Change the color of the bars to be green, and remove the black\n",
    "borders from the bars\n",
    "5. Ensure the histogram does not result in printing incomprehensible list of numbers in the output cell as this sample code does. \n"
   ]
  },
  {
   "cell_type": "code",
   "execution_count": 195,
   "metadata": {
    "autoscroll": false,
    "ein.hycell": false,
    "ein.tags": "worksheet-0",
    "slideshow": {
     "slide_type": "-"
    }
   },
   "outputs": [
    {
     "data": {
      "text/plain": [
       "Text(0.5, 1.0, 'Median Value of Houses in Boston')"
      ]
     },
     "execution_count": 195,
     "metadata": {},
     "output_type": "execute_result"
    },
    {
     "data": {
      "image/png": "[encoded data removed]",
      "text/plain": [
       "<Figure size 1080x576 with 1 Axes>"
      ]
     },
     "metadata": {
      "needs_background": "light"
     },
     "output_type": "display_data"
    }
   ],
   "source": [
    "# edit the code below to make the graph look good\n",
    "bins = np.linspace(5,50, 46)\n",
    "\n",
    "fig = plt.subplots(figsize=(15, 8))\n",
    "plt.hist(bdata.target, color='green', bins=bins)\n",
    "ax.spines['right'].set_visible(False)\n",
    "ax.spines['top'].set_visible(False)\n",
    "plt.title('Median Value of Houses in Boston')"
   ]
  },
  {
   "cell_type": "markdown",
   "metadata": {
    "ein.tags": "worksheet-0",
    "slideshow": {
     "slide_type": "-"
    }
   },
   "source": [
    "### 2.2: Scatter plot of housing prices and crime\n",
    "\n",
    "Use matplotlib to create a scatter plot that shows the relationship\n",
    "between the median value of the home (y-axis) and the per-capita crime\n",
    "rate (x-axis).  Properly label your axes, and make sure that your\n",
    "graphic looks polished and professional.\n"
   ]
  },
  {
   "cell_type": "code",
   "execution_count": 186,
   "metadata": {
    "autoscroll": false,
    "ein.hycell": false,
    "ein.tags": "worksheet-0",
    "slideshow": {
     "slide_type": "-"
    }
   },
   "outputs": [
    {
     "data": {
      "text/plain": [
       "Text(0.5, 1.0, 'Relationship Between the Median Value of Homes and the Per-Capita Crime Rate of Boston')"
      ]
     },
     "execution_count": 186,
     "metadata": {},
     "output_type": "execute_result"
    },
    {
     "data": {
      "image/png": "[encoded data removed]",
      "text/plain": [
       "<Figure size 1080x576 with 1 Axes>"
      ]
     },
     "metadata": {
      "needs_background": "light"
     },
     "output_type": "display_data"
    }
   ],
   "source": [
    "# enter your code here\n",
    "fig, ax = plt.subplots(figsize=(15, 8))\n",
    "\n",
    "ax.scatter(newdf.CRIM, bdata.target, s=100, color='magenta', alpha=.2)\n",
    "plt.xlabel('Per-Capita Crime Rate')\n",
    "plt.ylabel('Median Value of Home')\n",
    "plt.title('Relationship Between the Median Value of Homes and the Per-Capita Crime Rate of Boston')\n"
   ]
  },
  {
   "cell_type": "markdown",
   "metadata": {
    "ein.tags": "worksheet-0",
    "slideshow": {
     "slide_type": "-"
    }
   },
   "source": [
    "### 2.3: Interpret\n",
    "\n",
    "What do you observe in the above scatter plot? Does there appear to be\n",
    "a relationship between crime rates and housing prices in Boston?\n",
    "Calculate the correlation between these two variables. Do you think\n",
    "this relationship is causal, or just a correlation?   Can you provide\n",
    "examples of all 3 ways the causality may go here?"
   ]
  },
  {
   "cell_type": "code",
   "execution_count": 198,
   "metadata": {
    "autoscroll": false,
    "ein.hycell": false,
    "ein.tags": "worksheet-0",
    "slideshow": {
     "slide_type": "-"
    }
   },
   "outputs": [
    {
     "data": {
      "text/plain": [
       "array([[ 1.        , -0.38830461],\n",
       "       [-0.38830461,  1.        ]])"
      ]
     },
     "execution_count": 198,
     "metadata": {},
     "output_type": "execute_result"
    }
   ],
   "source": [
    "# compute correlation (should be b/w -1 and 1)\n",
    "\n",
    "np.corrcoef(newdf['CRIM'], bdata['target'])"
   ]
  },
  {
   "cell_type": "markdown",
   "metadata": {
    "ein.tags": "worksheet-0",
    "slideshow": {
     "slide_type": "-"
    }
   },
   "source": [
    "*Write your thoughts here (1-2 paragraphs).*"
   ]
  },
  {
   "cell_type": "markdown",
   "metadata": {
    "ein.tags": "worksheet-0",
    "slideshow": {
     "slide_type": "-"
    }
   },
   "source": [
    "### 2.4 Correlation Matrix\n",
    "\n",
    "Calculate the correlation of every pair of variables in the\n",
    "dataset. Create a *K* x *K* matrix where the value in the (*i*,*j*)\n",
    "cell is the correlation between the *i*th and *j*th variable. Show off\n",
    "your skills by coloring the cell so that large positive correlations\n",
    "appear green and large negative correlations appear red (use a\n",
    "gradient to make this pretty). What two variables appear to me most\n",
    "positively and negatively correlated?"
   ]
  },
  {
   "cell_type": "code",
   "execution_count": 199,
   "metadata": {
    "autoscroll": false,
    "ein.hycell": false,
    "ein.tags": "worksheet-0",
    "slideshow": {
     "slide_type": "-"
    }
   },
   "outputs": [
    {
     "data": {
      "text/html": [
       "<div>\n",
       "<style scoped>\n",
       "    .dataframe tbody tr th:only-of-type {\n",
       "        vertical-align: middle;\n",
       "    }\n",
       "\n",
       "    .dataframe tbody tr th {\n",
       "        vertical-align: top;\n",
       "    }\n",
       "\n",
       "    .dataframe thead th {\n",
       "        text-align: right;\n",
       "    }\n",
       "</style>\n",
       "<table border=\"1\" class=\"dataframe\">\n",
       "  <thead>\n",
       "    <tr style=\"text-align: right;\">\n",
       "      <th></th>\n",
       "      <th>CRIM</th>\n",
       "      <th>ZN</th>\n",
       "      <th>INDUS</th>\n",
       "      <th>CHAS</th>\n",
       "      <th>NOX</th>\n",
       "      <th>RM</th>\n",
       "      <th>AGE</th>\n",
       "      <th>DIS</th>\n",
       "      <th>RAD</th>\n",
       "      <th>TAX</th>\n",
       "      <th>PTRATIO</th>\n",
       "      <th>B</th>\n",
       "      <th>LSTAT</th>\n",
       "      <th>target</th>\n",
       "    </tr>\n",
       "  </thead>\n",
       "  <tbody>\n",
       "    <tr>\n",
       "      <th>CRIM</th>\n",
       "      <td>1.000000</td>\n",
       "      <td>-0.200469</td>\n",
       "      <td>0.406583</td>\n",
       "      <td>-0.055892</td>\n",
       "      <td>0.420972</td>\n",
       "      <td>-0.216039</td>\n",
       "      <td>0.352734</td>\n",
       "      <td>-0.379670</td>\n",
       "      <td>0.625505</td>\n",
       "      <td>0.582764</td>\n",
       "      <td>0.289946</td>\n",
       "      <td>-0.385064</td>\n",
       "      <td>0.455621</td>\n",
       "      <td>-0.388305</td>\n",
       "    </tr>\n",
       "    <tr>\n",
       "      <th>ZN</th>\n",
       "      <td>-0.200469</td>\n",
       "      <td>1.000000</td>\n",
       "      <td>-0.533828</td>\n",
       "      <td>-0.042697</td>\n",
       "      <td>-0.516604</td>\n",
       "      <td>0.271762</td>\n",
       "      <td>-0.569537</td>\n",
       "      <td>0.664408</td>\n",
       "      <td>-0.311948</td>\n",
       "      <td>-0.314563</td>\n",
       "      <td>-0.391679</td>\n",
       "      <td>0.175520</td>\n",
       "      <td>-0.412995</td>\n",
       "      <td>0.360445</td>\n",
       "    </tr>\n",
       "    <tr>\n",
       "      <th>INDUS</th>\n",
       "      <td>0.406583</td>\n",
       "      <td>-0.533828</td>\n",
       "      <td>1.000000</td>\n",
       "      <td>0.062938</td>\n",
       "      <td>0.763651</td>\n",
       "      <td>-0.356320</td>\n",
       "      <td>0.644779</td>\n",
       "      <td>-0.708027</td>\n",
       "      <td>0.595129</td>\n",
       "      <td>0.720760</td>\n",
       "      <td>0.383248</td>\n",
       "      <td>-0.356977</td>\n",
       "      <td>0.603800</td>\n",
       "      <td>-0.483725</td>\n",
       "    </tr>\n",
       "    <tr>\n",
       "      <th>CHAS</th>\n",
       "      <td>-0.055892</td>\n",
       "      <td>-0.042697</td>\n",
       "      <td>0.062938</td>\n",
       "      <td>1.000000</td>\n",
       "      <td>0.091203</td>\n",
       "      <td>0.068294</td>\n",
       "      <td>0.086518</td>\n",
       "      <td>-0.099176</td>\n",
       "      <td>-0.007368</td>\n",
       "      <td>-0.035587</td>\n",
       "      <td>-0.121515</td>\n",
       "      <td>0.048788</td>\n",
       "      <td>-0.053929</td>\n",
       "      <td>0.175260</td>\n",
       "    </tr>\n",
       "    <tr>\n",
       "      <th>NOX</th>\n",
       "      <td>0.420972</td>\n",
       "      <td>-0.516604</td>\n",
       "      <td>0.763651</td>\n",
       "      <td>0.091203</td>\n",
       "      <td>1.000000</td>\n",
       "      <td>-0.259478</td>\n",
       "      <td>0.731470</td>\n",
       "      <td>-0.769230</td>\n",
       "      <td>0.611441</td>\n",
       "      <td>0.668023</td>\n",
       "      <td>0.188933</td>\n",
       "      <td>-0.380051</td>\n",
       "      <td>0.590879</td>\n",
       "      <td>-0.427321</td>\n",
       "    </tr>\n",
       "    <tr>\n",
       "      <th>RM</th>\n",
       "      <td>-0.216039</td>\n",
       "      <td>0.271762</td>\n",
       "      <td>-0.356320</td>\n",
       "      <td>0.068294</td>\n",
       "      <td>-0.259478</td>\n",
       "      <td>1.000000</td>\n",
       "      <td>-0.200498</td>\n",
       "      <td>0.182281</td>\n",
       "      <td>-0.184688</td>\n",
       "      <td>-0.255715</td>\n",
       "      <td>-0.344208</td>\n",
       "      <td>0.139852</td>\n",
       "      <td>-0.557114</td>\n",
       "      <td>0.621692</td>\n",
       "    </tr>\n",
       "    <tr>\n",
       "      <th>AGE</th>\n",
       "      <td>0.352734</td>\n",
       "      <td>-0.569537</td>\n",
       "      <td>0.644779</td>\n",
       "      <td>0.086518</td>\n",
       "      <td>0.731470</td>\n",
       "      <td>-0.200498</td>\n",
       "      <td>1.000000</td>\n",
       "      <td>-0.747881</td>\n",
       "      <td>0.456022</td>\n",
       "      <td>0.506456</td>\n",
       "      <td>0.261515</td>\n",
       "      <td>-0.273534</td>\n",
       "      <td>0.602339</td>\n",
       "      <td>-0.376955</td>\n",
       "    </tr>\n",
       "    <tr>\n",
       "      <th>DIS</th>\n",
       "      <td>-0.379670</td>\n",
       "      <td>0.664408</td>\n",
       "      <td>-0.708027</td>\n",
       "      <td>-0.099176</td>\n",
       "      <td>-0.769230</td>\n",
       "      <td>0.182281</td>\n",
       "      <td>-0.747881</td>\n",
       "      <td>1.000000</td>\n",
       "      <td>-0.494588</td>\n",
       "      <td>-0.534432</td>\n",
       "      <td>-0.232471</td>\n",
       "      <td>0.291512</td>\n",
       "      <td>-0.496996</td>\n",
       "      <td>0.249929</td>\n",
       "    </tr>\n",
       "    <tr>\n",
       "      <th>RAD</th>\n",
       "      <td>0.625505</td>\n",
       "      <td>-0.311948</td>\n",
       "      <td>0.595129</td>\n",
       "      <td>-0.007368</td>\n",
       "      <td>0.611441</td>\n",
       "      <td>-0.184688</td>\n",
       "      <td>0.456022</td>\n",
       "      <td>-0.494588</td>\n",
       "      <td>1.000000</td>\n",
       "      <td>0.910228</td>\n",
       "      <td>0.464741</td>\n",
       "      <td>-0.444413</td>\n",
       "      <td>0.488676</td>\n",
       "      <td>-0.381626</td>\n",
       "    </tr>\n",
       "    <tr>\n",
       "      <th>TAX</th>\n",
       "      <td>0.582764</td>\n",
       "      <td>-0.314563</td>\n",
       "      <td>0.720760</td>\n",
       "      <td>-0.035587</td>\n",
       "      <td>0.668023</td>\n",
       "      <td>-0.255715</td>\n",
       "      <td>0.506456</td>\n",
       "      <td>-0.534432</td>\n",
       "      <td>0.910228</td>\n",
       "      <td>1.000000</td>\n",
       "      <td>0.460853</td>\n",
       "      <td>-0.441808</td>\n",
       "      <td>0.543993</td>\n",
       "      <td>-0.468536</td>\n",
       "    </tr>\n",
       "    <tr>\n",
       "      <th>PTRATIO</th>\n",
       "      <td>0.289946</td>\n",
       "      <td>-0.391679</td>\n",
       "      <td>0.383248</td>\n",
       "      <td>-0.121515</td>\n",
       "      <td>0.188933</td>\n",
       "      <td>-0.344208</td>\n",
       "      <td>0.261515</td>\n",
       "      <td>-0.232471</td>\n",
       "      <td>0.464741</td>\n",
       "      <td>0.460853</td>\n",
       "      <td>1.000000</td>\n",
       "      <td>-0.177383</td>\n",
       "      <td>0.374044</td>\n",
       "      <td>-0.507787</td>\n",
       "    </tr>\n",
       "    <tr>\n",
       "      <th>B</th>\n",
       "      <td>-0.385064</td>\n",
       "      <td>0.175520</td>\n",
       "      <td>-0.356977</td>\n",
       "      <td>0.048788</td>\n",
       "      <td>-0.380051</td>\n",
       "      <td>0.139852</td>\n",
       "      <td>-0.273534</td>\n",
       "      <td>0.291512</td>\n",
       "      <td>-0.444413</td>\n",
       "      <td>-0.441808</td>\n",
       "      <td>-0.177383</td>\n",
       "      <td>1.000000</td>\n",
       "      <td>-0.366087</td>\n",
       "      <td>0.333461</td>\n",
       "    </tr>\n",
       "    <tr>\n",
       "      <th>LSTAT</th>\n",
       "      <td>0.455621</td>\n",
       "      <td>-0.412995</td>\n",
       "      <td>0.603800</td>\n",
       "      <td>-0.053929</td>\n",
       "      <td>0.590879</td>\n",
       "      <td>-0.557114</td>\n",
       "      <td>0.602339</td>\n",
       "      <td>-0.496996</td>\n",
       "      <td>0.488676</td>\n",
       "      <td>0.543993</td>\n",
       "      <td>0.374044</td>\n",
       "      <td>-0.366087</td>\n",
       "      <td>1.000000</td>\n",
       "      <td>-0.737663</td>\n",
       "    </tr>\n",
       "    <tr>\n",
       "      <th>target</th>\n",
       "      <td>-0.388305</td>\n",
       "      <td>0.360445</td>\n",
       "      <td>-0.483725</td>\n",
       "      <td>0.175260</td>\n",
       "      <td>-0.427321</td>\n",
       "      <td>0.621692</td>\n",
       "      <td>-0.376955</td>\n",
       "      <td>0.249929</td>\n",
       "      <td>-0.381626</td>\n",
       "      <td>-0.468536</td>\n",
       "      <td>-0.507787</td>\n",
       "      <td>0.333461</td>\n",
       "      <td>-0.737663</td>\n",
       "      <td>1.000000</td>\n",
       "    </tr>\n",
       "  </tbody>\n",
       "</table>\n",
       "</div>"
      ],
      "text/plain": [
       "             CRIM        ZN     INDUS      CHAS       NOX        RM       AGE  \\\n",
       "CRIM     1.000000 -0.200469  0.406583 -0.055892  0.420972 -0.216039  0.352734   \n",
       "ZN      -0.200469  1.000000 -0.533828 -0.042697 -0.516604  0.271762 -0.569537   \n",
       "INDUS    0.406583 -0.533828  1.000000  0.062938  0.763651 -0.356320  0.644779   \n",
       "CHAS    -0.055892 -0.042697  0.062938  1.000000  0.091203  0.068294  0.086518   \n",
       "NOX      0.420972 -0.516604  0.763651  0.091203  1.000000 -0.259478  0.731470   \n",
       "RM      -0.216039  0.271762 -0.356320  0.068294 -0.259478  1.000000 -0.200498   \n",
       "AGE      0.352734 -0.569537  0.644779  0.086518  0.731470 -0.200498  1.000000   \n",
       "DIS     -0.379670  0.664408 -0.708027 -0.099176 -0.769230  0.182281 -0.747881   \n",
       "RAD      0.625505 -0.311948  0.595129 -0.007368  0.611441 -0.184688  0.456022   \n",
       "TAX      0.582764 -0.314563  0.720760 -0.035587  0.668023 -0.255715  0.506456   \n",
       "PTRATIO  0.289946 -0.391679  0.383248 -0.121515  0.188933 -0.344208  0.261515   \n",
       "B       -0.385064  0.175520 -0.356977  0.048788 -0.380051  0.139852 -0.273534   \n",
       "LSTAT    0.455621 -0.412995  0.603800 -0.053929  0.590879 -0.557114  0.602339   \n",
       "target  -0.388305  0.360445 -0.483725  0.175260 -0.427321  0.621692 -0.376955   \n",
       "\n",
       "              DIS       RAD       TAX   PTRATIO         B     LSTAT    target  \n",
       "CRIM    -0.379670  0.625505  0.582764  0.289946 -0.385064  0.455621 -0.388305  \n",
       "ZN       0.664408 -0.311948 -0.314563 -0.391679  0.175520 -0.412995  0.360445  \n",
       "INDUS   -0.708027  0.595129  0.720760  0.383248 -0.356977  0.603800 -0.483725  \n",
       "CHAS    -0.099176 -0.007368 -0.035587 -0.121515  0.048788 -0.053929  0.175260  \n",
       "NOX     -0.769230  0.611441  0.668023  0.188933 -0.380051  0.590879 -0.427321  \n",
       "RM       0.182281 -0.184688 -0.255715 -0.344208  0.139852 -0.557114  0.621692  \n",
       "AGE     -0.747881  0.456022  0.506456  0.261515 -0.273534  0.602339 -0.376955  \n",
       "DIS      1.000000 -0.494588 -0.534432 -0.232471  0.291512 -0.496996  0.249929  \n",
       "RAD     -0.494588  1.000000  0.910228  0.464741 -0.444413  0.488676 -0.381626  \n",
       "TAX     -0.534432  0.910228  1.000000  0.460853 -0.441808  0.543993 -0.468536  \n",
       "PTRATIO -0.232471  0.464741  0.460853  1.000000 -0.177383  0.374044 -0.507787  \n",
       "B        0.291512 -0.444413 -0.441808 -0.177383  1.000000 -0.366087  0.333461  \n",
       "LSTAT   -0.496996  0.488676  0.543993  0.374044 -0.366087  1.000000 -0.737663  \n",
       "target   0.249929 -0.381626 -0.468536 -0.507787  0.333461 -0.737663  1.000000  "
      ]
     },
     "execution_count": 199,
     "metadata": {},
     "output_type": "execute_result"
    }
   ],
   "source": [
    "# enter your code here\n",
    "## hint: check out matplotlib colorbar function\n",
    "\n",
    "newdf.corr()"
   ]
  },
  {
   "cell_type": "code",
   "execution_count": 220,
   "metadata": {},
   "outputs": [
    {
     "data": {
      "text/plain": [
       "<matplotlib.axes._subplots.AxesSubplot at 0x24aae978ba8>"
      ]
     },
     "execution_count": 220,
     "metadata": {},
     "output_type": "execute_result"
    },
    {
     "data": {
      "image/png": "[encoded data removed]",
      "text/plain": [
       "<Figure size 1008x864 with 2 Axes>"
      ]
     },
     "metadata": {
      "needs_background": "light"
     },
     "output_type": "display_data"
    }
   ],
   "source": [
    "#Create a correlation heat map\n",
    "\n",
    "plt.figure(figsize=(14, 12))\n",
    "sns.heatmap((newdf).corr(), annot=True, annot_kws={\"size\": 8}, cmap=\"RdYlGn\")"
   ]
  },
  {
   "cell_type": "markdown",
   "metadata": {
    "ein.tags": "worksheet-0",
    "slideshow": {
     "slide_type": "-"
    }
   },
   "source": [
    "*Write your response here.*\n",
    "\n",
    "TAX and RAD are the most positively correlated, and NOX and DIS the most negatively correlated."
   ]
  },
  {
   "cell_type": "markdown",
   "metadata": {
    "ein.tags": "worksheet-0",
    "slideshow": {
     "slide_type": "-"
    }
   },
   "source": [
    "### 2.5 Create your own (creative and effective) visualization\n",
    "\n",
    "Use another type of graph or chart to illustrate an interesting\n",
    "pattern in the data.  Be creative in your visualization, and make sure\n",
    "to produce a \"publication-quality\" graph.  Points will be given for\n",
    "useful and creative graphs; points will be deducted for confusing\n",
    "issues like unlabeled axes.  If you're new to data visualization,\n",
    "[this guide](http://pubs.aeaweb.org/doi/pdfplus/10.1257/jep.28.1.209)\n",
    "is a good place to start."
   ]
  },
  {
   "cell_type": "code",
   "execution_count": 288,
   "metadata": {
    "autoscroll": false,
    "ein.hycell": false,
    "ein.tags": "worksheet-0",
    "slideshow": {
     "slide_type": "-"
    }
   },
   "outputs": [
    {
     "data": {
      "text/plain": [
       "Text(0.5, 1, 'Relationship Between NOX and DIS')"
      ]
     },
     "execution_count": 288,
     "metadata": {},
     "output_type": "execute_result"
    },
    {
     "data": {
      "image/png": "[encoded data removed]",
      "text/plain": [
       "<Figure size 792x792 with 3 Axes>"
      ]
     },
     "metadata": {},
     "output_type": "display_data"
    }
   ],
   "source": [
    "# enter your code here\n",
    "nox = newdf.NOX\n",
    "dis= newdf.DIS\n",
    "\n",
    "g = sns.jointplot(tax, rad, kind=\"hex\", color=\"#4CB391\", height=11)\n",
    "g.fig.suptitle(\"Relationship Between NOX and DIS\", y=1)"
   ]
  },
  {
   "cell_type": "markdown",
   "metadata": {
    "ein.tags": "worksheet-0",
    "slideshow": {
     "slide_type": "-"
    }
   },
   "source": [
    "## 3. How much time did you spend?"
   ]
  },
  {
   "cell_type": "markdown",
   "metadata": {
    "ein.tags": "worksheet-0",
    "slideshow": {
     "slide_type": "-"
    }
   },
   "source": [
    "Finally, tell us how many hours did you spend solving this problem set?\n",
    "\n",
    "3 or so hours"
   ]
  }
 ],
 "metadata": {
  "kernelspec": {
   "display_name": "Python 3",
   "language": "python",
   "name": "python3"
  },
  "language_info": {
   "codemirror_mode": {
    "name": "ipython",
    "version": 3
   },
   "file_extension": ".py",
   "mimetype": "text/x-python",
   "name": "python",
   "nbconvert_exporter": "python",
   "pygments_lexer": "ipython3",
   "version": "3.7.1"
  },
  "name": "ps-pandas.ipynb"
 },
 "nbformat": 4,
 "nbformat_minor": 2
}
